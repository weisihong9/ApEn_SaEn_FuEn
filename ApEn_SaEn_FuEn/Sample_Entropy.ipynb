{
 "cells": [
  {
   "cell_type": "markdown",
   "id": "37525589-a6b5-4f44-a54f-612c13983dc9",
   "metadata": {},
   "source": [
    "## 实现样本熵"
   ]
  },
  {
   "cell_type": "code",
   "execution_count": 1,
   "id": "fb188d94-d2b3-4b25-991f-1de5ef4911cb",
   "metadata": {},
   "outputs": [],
   "source": [
    "import numpy as np"
   ]
  },
  {
   "cell_type": "markdown",
   "id": "98509da4-3a8e-4293-abb9-32f474205b7b",
   "metadata": {},
   "source": [
    "### 1. 定义样本熵函数"
   ]
  },
  {
   "cell_type": "code",
   "execution_count": 2,
   "id": "728d7621-ea1f-4e7b-914a-74186e03cee8",
   "metadata": {},
   "outputs": [],
   "source": [
    "def SampEn(x, m, r):\n",
    "    N = len(x)                                                      # 1. 信号总长N\n",
    "    x = np.array(x)\n",
    "    if x.ndim != 1:\n",
    "        raise ValueError(\"x的维度不是一维\")\n",
    "    if N < m + 1:\n",
    "        raise ValueError(\"len(x)小于m+1\")  \n",
    "        \n",
    "    AB = []\n",
    "    for temp in range(2):  # 7.\t将窗 m 增长为 m+1: temp = 0：m ； temp = 1: m+1\n",
    "        # 3. 以m为窗，将时间序列分为k = n-m+1个序列\n",
    "        X = []\n",
    "        m = m+temp\n",
    "        for i in range(N + 1 - m):\n",
    "            X.append(x[i:i+m])\n",
    "        X = np.array(X)\n",
    "        \n",
    "        # 4. 计算每个i与所有j之间的绝对值距离，统计距离d小于r的个数：N_m(i)【count】\n",
    "        C = []\n",
    "        for index1, i in enumerate(X):\n",
    "            count = 0\n",
    "            for index2, j in enumerate(X):\n",
    "                if index1 != index2:\n",
    "                    if np.max(np.abs(i-j)) <= r:\n",
    "                        count += 1\n",
    "            # 5. 获取每个i的 C\n",
    "            C.append(count/(N-m+1))\n",
    "        # 处理C为0的值，替换为一个非零的很小的数,以防取对数时报错\n",
    "        C = np.array(C)\n",
    "        C = np.where(C == 0, 1e-10, C)\n",
    "        \n",
    "        # 6. 求所有i得平均值\n",
    "        AB.append(np.sum(C)/(N-m+1))\n",
    "        \n",
    "    # 8. 获取样本熵\n",
    "    SE = np.log(AB[0]) - np.log(AB[1])\n",
    "    return SE"
   ]
  },
  {
   "cell_type": "code",
   "execution_count": 4,
   "id": "70a8d923-399f-4039-9df4-335ad605e415",
   "metadata": {},
   "outputs": [
    {
     "name": "stdout",
     "output_type": "stream",
     "text": [
      "0.25332113538577095 0.008298802704695074\n"
     ]
    }
   ],
   "source": [
    "x = [2,1,4,5,6,3,2,1,4,5,6,3,2]\n",
    "# x = [2,1,4,5,6,3,2,3,5,6,9,2,6]\n",
    "Xstd = np.std(x)\n",
    "r = 0.15*Xstd\n",
    "SE = SampEn(x, 2, r)\n",
    "print(r, SE)"
   ]
  },
  {
   "cell_type": "code",
   "execution_count": null,
   "id": "f5483f2b-95b2-4a52-8e13-e635888270bb",
   "metadata": {},
   "outputs": [],
   "source": []
  }
 ],
 "metadata": {
  "kernelspec": {
   "display_name": "Python 3 (ipykernel)",
   "language": "python",
   "name": "python3"
  },
  "language_info": {
   "codemirror_mode": {
    "name": "ipython",
    "version": 3
   },
   "file_extension": ".py",
   "mimetype": "text/x-python",
   "name": "python",
   "nbconvert_exporter": "python",
   "pygments_lexer": "ipython3",
   "version": "3.9.12"
  }
 },
 "nbformat": 4,
 "nbformat_minor": 5
}
